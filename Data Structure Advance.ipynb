{
  "metadata": {
    "kernelspec": {
      "name": "python",
      "display_name": "Python (Pyodide)",
      "language": "python"
    },
    "language_info": {
      "codemirror_mode": {
        "name": "python",
        "version": 3
      },
      "file_extension": ".py",
      "mimetype": "text/x-python",
      "name": "python",
      "nbconvert_exporter": "python",
      "pygments_lexer": "ipython3",
      "version": "3.8"
    }
  },
  "nbformat_minor": 4,
  "nbformat": 4,
  "cells": [
    {
      "cell_type": "raw",
      "source": "### Data Structure Advance",
      "metadata": {}
    },
    {
      "cell_type": "raw",
      "source": "1. Write a code to reverse a string.\n2. Write a code to count the number of vowels in a string.\n3. Write a code to check if a given string is a palindrome or not.\n4. Write a code to check if two given strings are anagrams of each other.\n5. Write a code to find all occurrences of a given substring within another string.\n6. Write a code to perform basic string compression using the counts of repeated characters.\n7. Write a code to determine if a string has all unique characters.\n8. Write a code to convert a given string to uppercase or lowercase.\n9. Write a code to count the number of words in a string.\n10. Write a code to concatenate two strings without using the operator.\n11. Write a code to remove all occurrences of a specific element from a list.\n12. Implement a code to find the second largest number in a given list of integers.\n13. Create a code to count the occurrences of each element in a list and return a dictionary with elements as keys and their counts as values.\n14. Write a code to reverse a list in-place without using any built-in reverse functions.\n15. Implement a code to find and remove duplicates from a list while preserving the original order of elements.\n16. Create a code to check if a given list is sorted (either in ascending or descending order) or not.\n17. Write a code to merge two sorted lists into a single sorted list.\n18. Implement a code to find the intersection of two given lists.\n19. Create a code to find the union of two lists without duplicates.\n20. Write a code to shuffle a given list randomly without using any built-in shuffle functions.\n21. Write a code that takes two tuples as input and returns a new tuple containing elements that are common to both input tuples.\n22. Create a code that prompts the user to enter two sets of integers separated by commas. Then, print the intersection of these two sets.\n23. Write a code to concatenate two tuples. The function should take two tuples as input and return a new tuple containing elements from both input tuples.\n24. Develop a code that prompts the user to input two sets of strings. Then, print the elements that are present in the first set but not in the second set.\n25. Create a code that takes a tuple and two integers as input. The function should return a new tuple containing elements from the original tuple within the specified range of indices.\n26. Write a code that prompts the user to input two sets of characters. Then, print the union of these two sets.\n27. Develop a code that takes a tuple of integers as input. The function should return the maximum and minimum values from the tuple using tuple unpacking.\n28. Create a code that defines two sets of integers. Then, print the union, intersection, and difference of these two sets.\n29. Write a code that takes a tuple and an element as input. The function should return the count of occurrences of the given element in the tuple.\n30. Develop a code that prompts the user to input two sets of strings. Then, print the symmetric difference of these two sets.\n31. Write a code that takes a list of words as input and returns a dictionary where the keys are unique words and the values are the frequencies of those words in the input list.\n32. Write a code that takes two dictionaries as input and merges them into a single dictionary. If there are common keys, the values should be added together.\n33. Write a code to access a value in a nested dictionary. The function should take the dictionary and a list of keys as input, and return the corresponding value. If any of the keys do not exist in the dictionary, the function should return None.\n34. Write a code that takes a dictionary as input and returns a sorted version of it based on the values. You can choose whether to sort in ascending or descending order.\n35. Write a code that inverts a dictionary, swapping keys and values. Ensure that the inverted dictionary correctly handles cases where multiple keys have the same value by storing the keys as a list in the inverted dictionary.",
      "metadata": {}
    },
    {
      "cell_type": "raw",
      "source": "Answer1. Write a code to reverse a string.",
      "metadata": {}
    },
    {
      "cell_type": "code",
      "source": "def reverse_string(s):\n    return s[::-1]\n\n# Example usage\nresult = reverse_string(\"Hello, World!\")\nprint(result)",
      "metadata": {
        "trusted": true
      },
      "outputs": [
        {
          "name": "stdout",
          "text": "!dlroW ,olleH\n",
          "output_type": "stream"
        }
      ],
      "execution_count": 1
    },
    {
      "cell_type": "raw",
      "source": "Answer2. Write a code to count the number of vowels in a string.",
      "metadata": {}
    },
    {
      "cell_type": "code",
      "source": "def count_vowels(s):\n    vowels = \"aeiouAEIOU\"\n    return sum(1 for char in s if char in vowels)\n\n# Example usage\nresult = count_vowels(\"Hello, World!\")\nprint(result) ",
      "metadata": {
        "trusted": true
      },
      "outputs": [
        {
          "name": "stdout",
          "text": "3\n",
          "output_type": "stream"
        }
      ],
      "execution_count": 2
    },
    {
      "cell_type": "raw",
      "source": "Answer3. Write a code to check if a given string is a palindrome or not.",
      "metadata": {}
    },
    {
      "cell_type": "code",
      "source": "def is_palindrome(s):\n    # Normalize the string by removing spaces and converting to lowercase\n    normalized_s = ''.join(s.split()).lower()\n    return normalized_s == normalized_s[::-1]\n\n# Example usage\nstring_to_check = \"A man a plan a canal Panama\"\nresult = is_palindrome(string_to_check)\nprint(f'\"{string_to_check}\" is a palindrome: {result}') ",
      "metadata": {
        "trusted": true
      },
      "outputs": [
        {
          "name": "stdout",
          "text": "\"A man a plan a canal Panama\" is a palindrome: True\n",
          "output_type": "stream"
        }
      ],
      "execution_count": 3
    },
    {
      "cell_type": "raw",
      "source": "Explanation:\n1. Normalization: The string is normalized by removing spaces and converting it to lowercase to ensure the check is case-insensitive and ignores spaces.\n2. Comparison: The function checks if the normalized string is equal to its reverse (normalized_s[::-1]).",
      "metadata": {}
    },
    {
      "cell_type": "raw",
      "source": "Answer4. Write a code to check if two given strings are anagrams of each other.",
      "metadata": {}
    },
    {
      "cell_type": "code",
      "source": "def are_anagrams(str1, str2):\n    # Normalize the strings by removing spaces and converting to lowercase\n    normalized_str1 = ''.join(str1.split()).lower()\n    normalized_str2 = ''.join(str2.split()).lower()\n    \n    # Sort the characters of both strings and compare\n    return sorted(normalized_str1) == sorted(normalized_str2)\n\n# Example usage\nstring1 = \"Listen\"\nstring2 = \"Silent\"\nresult = are_anagrams(string1, string2)\nprint(f'\"{string1}\" and \"{string2}\" are anagrams: {result}')",
      "metadata": {
        "trusted": true
      },
      "outputs": [
        {
          "name": "stdout",
          "text": "\"Listen\" and \"Silent\" are anagrams: True\n",
          "output_type": "stream"
        }
      ],
      "execution_count": 4
    },
    {
      "cell_type": "raw",
      "source": "Explanation:\n1. Normalization: Both strings are normalized by removing spaces and converting to lowercase.\n2. Sorting: The characters of both normalized strings are sorted and compared. If they are the same, the strings are anagrams.",
      "metadata": {}
    },
    {
      "cell_type": "raw",
      "source": "Answer5. Write a code to find all occurrences of a given substring within another string.",
      "metadata": {}
    },
    {
      "cell_type": "code",
      "source": "def find_substring_occurrences(main_string, substring):\n    occurrences = []\n    start = 0\n\n    while True:\n        start = main_string.find(substring, start)\n        if start == -1:  # No more occurrences found\n            break\n        occurrences.append(start)\n        start += 1  # Move to the next character after the current match\n\n    return occurrences\n\n# Example usage\nmain_string = \"Hello, this is a test. This is only a test.\"\nsubstring = \"is\"\nresult = find_substring_occurrences(main_string, substring)\nprint(f'Occurrences of \"{substring}\" in the main string: {result}') ",
      "metadata": {
        "trusted": true
      },
      "outputs": [
        {
          "name": "stdout",
          "text": "Occurrences of \"is\" in the main string: [9, 12, 25, 28]\n",
          "output_type": "stream"
        }
      ],
      "execution_count": 5
    },
    {
      "cell_type": "raw",
      "source": "Explanation:\n1. Initialization: An empty list occurrences is created to store the indices of found occurrences.\n2. Finding Occurrences: The find() method is used to locate the substring, starting from the last found index. If no more occurrences are found, -1 is returned.\n3. Appending Indices: Each found index is appended to the occurrences list, and the search continues from the next character.\n4. Result: The function returns a list of starting indices of all occurrences.",
      "metadata": {}
    },
    {
      "cell_type": "raw",
      "source": "Answer6. Write a code to perform basic string compression using the counts of repeated characters.",
      "metadata": {}
    },
    {
      "cell_type": "code",
      "source": "def compress_string(s):\n    if not s:\n        return \"\"\n    \n    compressed = []\n    count = 1\n\n    for i in range(1, len(s)):\n        if s[i] == s[i - 1]:\n            count += 1\n        else:\n            compressed.append(s[i - 1])\n            compressed.append(str(count))\n            count = 1  # Reset count for the new character\n\n    # Add the last character and its count\n    compressed.append(s[-1])\n    compressed.append(str(count))\n\n    compressed_string = ''.join(compressed)\n    \n    # Return the compressed string only if it's shorter than the original\n    return compressed_string if len(compressed_string) < len(s) else s\n\n# Example usage\noriginal_string = \"aaabbcdddde\"\ncompressed_string = compress_string(original_string)\nprint(f'Original string: \"{original_string}\"')\nprint(f'Compressed string: \"{compressed_string}\"')",
      "metadata": {
        "trusted": true
      },
      "outputs": [
        {
          "name": "stdout",
          "text": "Original string: \"aaabbcdddde\"\nCompressed string: \"a3b2c1d4e1\"\n",
          "output_type": "stream"
        }
      ],
      "execution_count": 6
    },
    {
      "cell_type": "raw",
      "source": "Explanation:\n1. Initialization: An empty list compressed is created to store the compressed characters and their counts, and count is initialized to 1.\n2. Loop Through Characters: The function iterates through the string starting from the second character, counting consecutive identical characters.\n3. Appending Results: When a different character is encountered, the previous character and its count are appended to the compressed list. The count is then reset to 1.\n4. Final Character: After the loop, the last character and its count are added to the list.\n5. Return: The compressed string is joined and returned only if it is shorter than the original string; otherwise, the original string is returned.",
      "metadata": {}
    },
    {
      "cell_type": "raw",
      "source": "Answer7 Write a code to determine if a string has all unique characters.",
      "metadata": {}
    },
    {
      "cell_type": "code",
      "source": "def has_unique_characters(s):\n    # Normalize the string by removing spaces and converting to lowercase\n    normalized_s = ''.join(s.split()).lower()\n    \n    # Use a set to track seen characters\n    seen = set()\n    \n    for char in normalized_s:\n        if char in seen:\n            return False\n        seen.add(char)\n    \n    return True\n\n# Example usage\ntest_string = \"Hello\"\nresult = has_unique_characters(test_string)\nprint(f'The string \"{test_string}\" has all unique characters: {result}')",
      "metadata": {
        "trusted": true
      },
      "outputs": [
        {
          "name": "stdout",
          "text": "The string \"Hello\" has all unique characters: False\n",
          "output_type": "stream"
        }
      ],
      "execution_count": 7
    },
    {
      "cell_type": "raw",
      "source": "Explanation:\n1. Normalization: The string is normalized by removing spaces and converting it to lowercase for a case-insensitive check.\n2. Set for Tracking: A set called seen is used to keep track of characters that have already been encountered.\n3. Checking Uniqueness: As we iterate through the characters in the string, if a character is found in the seen set, it means the character is not unique, and the function returns False. If the character is not in the set, it is added.\n4. Return: If the loop completes without finding duplicates, the function returns True.",
      "metadata": {}
    },
    {
      "cell_type": "raw",
      "source": "Answer8. Write a code to convert a given string to uppercase or lowercase.",
      "metadata": {}
    },
    {
      "cell_type": "code",
      "source": "def convert_case(s, to_upper=True):\n    if to_upper:\n        return s.upper()  # Convert to uppercase\n    else:\n        return s.lower()  # Convert to lowercase\n\n# Example usage\noriginal_string = \"Hello, World!\"\nuppercase_string = convert_case(original_string, to_upper=True)\nlowercase_string = convert_case(original_string, to_upper=False)\n\nprint(f'Original string: \"{original_string}\"')\nprint(f'Uppercase string: \"{uppercase_string}\"')  \nprint(f'Lowercase string: \"{lowercase_string}\"')  ",
      "metadata": {
        "trusted": true
      },
      "outputs": [
        {
          "name": "stdout",
          "text": "Original string: \"Hello, World!\"\nUppercase string: \"HELLO, WORLD!\"\nLowercase string: \"hello, world!\"\n",
          "output_type": "stream"
        }
      ],
      "execution_count": 8
    },
    {
      "cell_type": "raw",
      "source": "Explanation:\n1. Function Definition: The convert_case function takes a string s and a boolean to_upper. If to_upper is True, it converts the string to uppercase using the upper() method; otherwise, it converts it to lowercase using the lower() method.\n2. Example Usage: The function is called twice—once to convert to uppercase and once to lowercase, demonstrating both functionalities.",
      "metadata": {}
    },
    {
      "cell_type": "raw",
      "source": "Answer9. Write a code to count the number of words in a string.",
      "metadata": {}
    },
    {
      "cell_type": "code",
      "source": "def count_words(s):\n    # Normalize the string by stripping leading/trailing spaces and splitting by whitespace\n    words = s.strip().split()\n    return len(words)\n\n# Example usage\ninput_string = \"Hello, this is a sample string.\"\nword_count = count_words(input_string)\nprint(f'The number of words in the string: {word_count}') ",
      "metadata": {
        "trusted": true
      },
      "outputs": [
        {
          "name": "stdout",
          "text": "The number of words in the string: 6\n",
          "output_type": "stream"
        }
      ],
      "execution_count": 9
    },
    {
      "cell_type": "raw",
      "source": "Explanation:\n1. Normalization: The string is stripped of leading and trailing whitespace using strip(), and then split into words using the split() method. By default, split() divides the string by any whitespace and removes extra spaces.\n2. Counting Words: The length of the resulting list of words is returned using len().",
      "metadata": {}
    },
    {
      "cell_type": "raw",
      "source": "Answer10. Write a code to concatenate two strings without using the operator.",
      "metadata": {}
    },
    {
      "cell_type": "code",
      "source": "def concatenate_strings(s1, s2):\n    # Create a list with both strings and join them\n    return ''.join([s1, s2])\n\n# Example usage\nstring1 = \"Hello, \"\nstring2 = \"World!\"\nresult = concatenate_strings(string1, string2)\nprint(f'Concatenated string: \"{result}\"')",
      "metadata": {
        "trusted": true
      },
      "outputs": [
        {
          "name": "stdout",
          "text": "Concatenated string: \"Hello, World!\"\n",
          "output_type": "stream"
        }
      ],
      "execution_count": 10
    },
    {
      "cell_type": "raw",
      "source": "Explanation:\n1. Using join(): The function creates a list containing the two strings and then uses join() to concatenate them into a single string.\n2. Return the Result: The resulting string is returned and printed.",
      "metadata": {}
    },
    {
      "cell_type": "raw",
      "source": "Answer11. Write a code to remove all occurrences of a specific element from a list.",
      "metadata": {}
    },
    {
      "cell_type": "code",
      "source": "def remove_occurrences(lst, element):\n    # Use a list comprehension to create a new list without the specified element\n    return [item for item in lst if item != element]\n\n# Example usage\noriginal_list = [1, 2, 3, 2, 4, 2, 5]\nelement_to_remove = 2\nresult = remove_occurrences(original_list, element_to_remove)\n\nprint(f'Original list: {original_list}')\nprint(f'List after removing {element_to_remove}: {result}') ",
      "metadata": {
        "trusted": true
      },
      "outputs": [
        {
          "name": "stdout",
          "text": "Original list: [1, 2, 3, 2, 4, 2, 5]\nList after removing 2: [1, 3, 4, 5]\n",
          "output_type": "stream"
        }
      ],
      "execution_count": 11
    },
    {
      "cell_type": "raw",
      "source": "Explanation:\n1. List Comprehension: The function uses a list comprehension to create a new list that includes only those items that are not equal to the specified element.\n2. Return the Result: The resulting list, which has all occurrences of the specified element removed, is returned and printed.",
      "metadata": {}
    },
    {
      "cell_type": "raw",
      "source": "Answer12. Implement a code to find the second largest number in a given list of integers.",
      "metadata": {}
    },
    {
      "cell_type": "code",
      "source": "def second_largest(numbers):\n    if len(numbers) < 2:\n        return None  # Not enough elements for second largest\n\n    first, second = float('-inf'), float('-inf')\n\n    for number in numbers:\n        if number > first:\n            second = first\n            first = number\n        elif first > number > second:\n            second = number\n\n    return second if second != float('-inf') else None\n\n# Example usage\nnumbers_list = [3, 1, 4, 4, 5, 2]\nresult = second_largest(numbers_list)\n\nif result is not None:\n    print(f'The second largest number is: {result}')  \nelse:\n    print('There is no second largest number.')",
      "metadata": {
        "trusted": true
      },
      "outputs": [
        {
          "name": "stdout",
          "text": "The second largest number is: 4\n",
          "output_type": "stream"
        }
      ],
      "execution_count": 12
    },
    {
      "cell_type": "raw",
      "source": "Explanation:\n1. Initialization: Two variables, first and second, are initialized to negative infinity to ensure any number in the list will be larger.\n2. Iteration: The function iterates through each number in the list:\n* If a number is greater than first, it updates second to the previous first and then updates first.\n* If a number is between first and second, it updates second.\n3. Return Value: If second remains negative infinity, it means there was no valid second largest number, so None is returned; otherwise, the second largest number is returned.",
      "metadata": {}
    },
    {
      "cell_type": "raw",
      "source": "Answer13. Create a code to count the occurrences of each element in a list and return a dictionary with elements as keys and their counts as values.",
      "metadata": {}
    },
    {
      "cell_type": "code",
      "source": "def count_occurrences(lst):\n    count_dict = {}\n    for element in lst:\n        if element in count_dict:\n            count_dict[element] += 1\n        else:\n            count_dict[element] = 1\n    return count_dict\n\n# Example usage\nexample_list = [1, 2, 2, 3, 1, 4, 3, 3]\nresult = count_occurrences(example_list)\nprint(result)",
      "metadata": {
        "trusted": true
      },
      "outputs": [
        {
          "name": "stdout",
          "text": "{1: 2, 2: 2, 3: 3, 4: 1}\n",
          "output_type": "stream"
        }
      ],
      "execution_count": 1
    },
    {
      "cell_type": "raw",
      "source": "Answer14. Write a code to reverse a list in-place without using any built-in reverse functions.",
      "metadata": {}
    },
    {
      "cell_type": "raw",
      "source": "You can reverse a list in-place using a simple loop that swaps elements from the beginning and the end of the list until you reach the middle.",
      "metadata": {}
    },
    {
      "cell_type": "code",
      "source": "def reverse_list(lst):\n    left = 0\n    right = len(lst) - 1\n    \n    while left < right:\n        # Swap elements\n        lst[left], lst[right] = lst[right], lst[left]\n        left += 1\n        right -= 1\n\n# Example usage\nexample_list = [1, 2, 3, 4, 5]\nreverse_list(example_list)\nprint(example_list)",
      "metadata": {
        "trusted": true
      },
      "outputs": [
        {
          "name": "stdout",
          "text": "[5, 4, 3, 2, 1]\n",
          "output_type": "stream"
        }
      ],
      "execution_count": 2
    },
    {
      "cell_type": "raw",
      "source": "This approach efficiently reverses the list in place without using any built-in reverse functions.",
      "metadata": {}
    },
    {
      "cell_type": "raw",
      "source": "Answer15. Implement a code to find and remove duplicates from a list while preserving the original order of elements.",
      "metadata": {}
    },
    {
      "cell_type": "raw",
      "source": "You can find and remove duplicates from a list while preserving the original order by using a loop along with a set to keep track of seen elements.",
      "metadata": {}
    },
    {
      "cell_type": "code",
      "source": "def remove_duplicates(lst):\n    seen = set()\n    result = []\n    \n    for element in lst:\n        if element not in seen:\n            seen.add(element)\n            result.append(element)\n    \n    return result\n\n# Example usage\nexample_list = [1, 2, 3, 2, 4, 1, 5, 3]\nunique_list = remove_duplicates(example_list)\nprint(unique_list)",
      "metadata": {
        "trusted": true
      },
      "outputs": [
        {
          "name": "stdout",
          "text": "[1, 2, 3, 4, 5]\n",
          "output_type": "stream"
        }
      ],
      "execution_count": 3
    },
    {
      "cell_type": "raw",
      "source": "This implementation efficiently removes duplicates while maintaining the order of the first occurrences of each element.",
      "metadata": {}
    },
    {
      "cell_type": "raw",
      "source": "Answer16. Create a code to check if a given list is sorted (either in ascending or descending order) or not.",
      "metadata": {}
    },
    {
      "cell_type": "raw",
      "source": "You can check if a list is sorted in either ascending or descending order by comparing each element with its neighbors.",
      "metadata": {}
    },
    {
      "cell_type": "code",
      "source": "def is_sorted(lst):\n    if not lst:  # An empty list is considered sorted\n        return True\n    \n    ascending = all(lst[i] <= lst[i + 1] for i in range(len(lst) - 1))\n    descending = all(lst[i] >= lst[i + 1] for i in range(len(lst) - 1))\n    \n    return ascending or descending\n\n# Example usage\nexample_list1 = [1, 2, 3, 4, 5]\nexample_list2 = [5, 4, 3, 2, 1]\nexample_list3 = [1, 3, 2, 4]\nexample_list4 = []\n\nprint(is_sorted(example_list1))  \nprint(is_sorted(example_list2))  \nprint(is_sorted(example_list3))  \nprint(is_sorted(example_list4))  ",
      "metadata": {
        "trusted": true
      },
      "outputs": [
        {
          "name": "stdout",
          "text": "True\nTrue\nFalse\nTrue\n",
          "output_type": "stream"
        }
      ],
      "execution_count": 4
    },
    {
      "cell_type": "raw",
      "source": "This code checks if the list is sorted in either ascending or descending order and returns True or False accordingly. The empty list is considered sorted by definition.",
      "metadata": {}
    },
    {
      "cell_type": "raw",
      "source": "Answer17. Write a code to merge two sorted lists into a single sorted list.",
      "metadata": {}
    },
    {
      "cell_type": "code",
      "source": "def merge_sorted_lists(list1, list2):\n    merged_list = []\n    i, j = 0, 0\n    \n    # Loop until one of the lists is exhausted\n    while i < len(list1) and j < len(list2):\n        if list1[i] < list2[j]:\n            merged_list.append(list1[i])\n            i += 1\n        else:\n            merged_list.append(list2[j])\n            j += 1\n    \n    # Append any remaining elements from list1\n    while i < len(list1):\n        merged_list.append(list1[i])\n        i += 1\n    \n    # Append any remaining elements from list2\n    while j < len(list2):\n        merged_list.append(list2[j])\n        j += 1\n    \n    return merged_list\n\n# Example usage\nlist1 = [1, 3, 5, 7]\nlist2 = [2, 4, 6, 8]\nresult = merge_sorted_lists(list1, list2)\nprint(result)",
      "metadata": {
        "trusted": true
      },
      "outputs": [
        {
          "name": "stdout",
          "text": "[1, 2, 3, 4, 5, 6, 7, 8]\n",
          "output_type": "stream"
        }
      ],
      "execution_count": 5
    },
    {
      "cell_type": "raw",
      "source": "Answer18. Implement a code to find the intersection of two given lists.",
      "metadata": {}
    },
    {
      "cell_type": "raw",
      "source": "We can find the intersection of two lists by using a set to efficiently track the elements of one list and then checking which of those elements are present in the other list.",
      "metadata": {}
    },
    {
      "cell_type": "code",
      "source": "def intersection(list1, list2):\n    # Convert one of the lists to a set for faster lookups\n    set1 = set(list1)\n    \n    # Use a list comprehension to find common elements\n    return [element for element in list2 if element in set1]\n\n# Example usage\nlist1 = [1, 2, 3, 4, 5]\nlist2 = [4, 5, 6, 7, 8]\nresult = intersection(list1, list2)\nprint(result)",
      "metadata": {
        "trusted": true
      },
      "outputs": [
        {
          "name": "stdout",
          "text": "[4, 5]\n",
          "output_type": "stream"
        }
      ],
      "execution_count": 6
    },
    {
      "cell_type": "raw",
      "source": "This implementation finds the intersection of the two lists and returns a new list containing the common elements. Note that the order of elements in the resulting list will be based on their appearance in list2.",
      "metadata": {}
    },
    {
      "cell_type": "raw",
      "source": "Answer19. Create a code to find the union of two lists without duplicates.",
      "metadata": {}
    },
    {
      "cell_type": "raw",
      "source": "We can find the union of two lists without duplicates by using a set to combine the elements of both lists.",
      "metadata": {}
    },
    {
      "cell_type": "code",
      "source": "def union(list1, list2):\n    # Use a set to store unique elements from both lists\n    result_set = set(list1) | set(list2)\n    \n    # Convert the set back to a list (optional)\n    return list(result_set)\n\n# Example usage\nlist1 = [1, 2, 3, 4]\nlist2 = [3, 4, 5, 6]\nresult = union(list1, list2)\nprint(result)",
      "metadata": {
        "trusted": true
      },
      "outputs": [
        {
          "name": "stdout",
          "text": "[1, 2, 3, 4, 5, 6]\n",
          "output_type": "stream"
        }
      ],
      "execution_count": 7
    },
    {
      "cell_type": "raw",
      "source": "This implementation effectively combines the two lists and removes any duplicates by leveraging the properties of sets. The order of elements in the resulting list may not reflect the original order from the input lists. If you need to maintain the order based on the first appearance, we can use the following approach:",
      "metadata": {}
    },
    {
      "cell_type": "code",
      "source": "def union_preserve_order(list1, list2):\n    result = []\n    seen = set()\n    \n    for element in list1 + list2:\n        if element not in seen:\n            seen.add(element)\n            result.append(element)\n    \n    return result\n\n# Example usage\nresult_ordered = union_preserve_order(list1, list2)\nprint(result_ordered)",
      "metadata": {
        "trusted": true
      },
      "outputs": [
        {
          "name": "stdout",
          "text": "[1, 2, 3, 4, 5, 6]\n",
          "output_type": "stream"
        }
      ],
      "execution_count": 8
    },
    {
      "cell_type": "raw",
      "source": "This will ensure that the order is preserved based on the first appearance of the elements in the combined lists.",
      "metadata": {}
    },
    {
      "cell_type": "raw",
      "source": "Answer20. Write a code to shuffle a given list randomly without using any built-in shuffle functions.",
      "metadata": {}
    },
    {
      "cell_type": "code",
      "source": "import random\n\ndef shuffle_list(lst):\n    # Create a copy of the list to avoid modifying the original\n    shuffled = lst[:]\n    n = len(shuffled)\n    \n    for i in range(n - 1, 0, -1):\n        # Generate a random index from 0 to i\n        j = random.randint(0, i)\n        # Swap elements at indices i and j\n        shuffled[i], shuffled[j] = shuffled[j], shuffled[i]\n    \n    return shuffled\n\n# Example usage\nexample_list = [1, 2, 3, 4, 5]\nshuffled_list = shuffle_list(example_list)\nprint(shuffled_list)",
      "metadata": {
        "trusted": true
      },
      "outputs": [
        {
          "name": "stdout",
          "text": "[2, 1, 5, 4, 3]\n",
          "output_type": "stream"
        }
      ],
      "execution_count": 9
    },
    {
      "cell_type": "raw",
      "source": "This code creates a new list that is a shuffled version of the input list. The Fisher-Yates shuffle algorithm ensures that each permutation of the list is equally likely.\n\nExplanation:\n1. The algorithm iterates backward through the list.\n2. For each position, it selects a random index from the portion of the list that hasn't been shuffled yet.\n3. It then swaps the current element with the randomly selected element.\n\nThis way, you achieve a random shuffle without using any built-in functions specifically designed for shuffling.",
      "metadata": {}
    },
    {
      "cell_type": "raw",
      "source": "Answer21. Write a code that takes two tuples as input and returns a new tuple containing elements that are common to both input tuples.",
      "metadata": {}
    },
    {
      "cell_type": "code",
      "source": "def common_elements(tuple1, tuple2):\n    # Convert tuples to sets and find the intersection\n    common_set = set(tuple1) & set(tuple2)\n    \n    # Convert the result back to a tuple\n    return tuple(common_set)\n\n# Example usage\ntuple1 = (1, 2, 3, 4)\ntuple2 = (3, 4, 5, 6)\nresult = common_elements(tuple1, tuple2)\nprint(result)",
      "metadata": {
        "trusted": true
      },
      "outputs": [
        {
          "name": "stdout",
          "text": "(3, 4)\n",
          "output_type": "stream"
        }
      ],
      "execution_count": 10
    },
    {
      "cell_type": "raw",
      "source": "Explanation:\n* The set() function is used to convert each tuple into a set, which automatically removes duplicates.\n* The & operator finds the intersection of the two sets, resulting in common elements.\n* Finally, the result is converted back into a tuple before returning.\n\nNote that the order of elements in the resulting tuple may not match their original order due to the properties of sets. If we want to maintain the order of the first tuple, you can use a list comprehension:",
      "metadata": {}
    },
    {
      "cell_type": "code",
      "source": "def common_elements_ordered(tuple1, tuple2):\n    # Find common elements while preserving order from tuple1\n    return tuple(item for item in tuple1 if item in tuple2)\n\n# Example usage\nresult_ordered = common_elements_ordered(tuple1, tuple2)\nprint(result_ordered)",
      "metadata": {
        "trusted": true
      },
      "outputs": [
        {
          "name": "stdout",
          "text": "(3, 4)\n",
          "output_type": "stream"
        }
      ],
      "execution_count": 11
    },
    {
      "cell_type": "raw",
      "source": "Answer22. Create a code that prompts the user to enter two sets of integers separated by commas. Then, print the intersection of these two sets.",
      "metadata": {}
    },
    {
      "cell_type": "code",
      "source": "def get_set_input(prompt):\n    # Prompt user for input and convert it to a set of integers\n    user_input = input(prompt)\n    return set(map(int, user_input.split(',')))\n\ndef main():\n    # Get two sets of integers from the user\n    set1 = get_set_input(\"Enter the first set of integers (separated by commas): \")\n    set2 = get_set_input(\"Enter the second set of integers (separated by commas): \")\n    \n    # Calculate the intersection\n    intersection = set1 & set2\n    \n    # Print the result\n    print(\"The intersection of the two sets is:\", intersection)\n\nif __name__ == \"__main__\":\n    main()\n",
      "metadata": {
        "trusted": true
      },
      "outputs": [
        {
          "ename": "<class 'AttributeError'>",
          "evalue": "'PyodideFuture' object has no attribute 'split'",
          "traceback": [
            "\u001b[0;31m---------------------------------------------------------------------------\u001b[0m",
            "\u001b[0;31mAttributeError\u001b[0m                            Traceback (most recent call last)",
            "Cell \u001b[0;32mIn[14], line 18\u001b[0m\n\u001b[1;32m     15\u001b[0m     \u001b[38;5;28mprint\u001b[39m(\u001b[38;5;124m\"\u001b[39m\u001b[38;5;124mThe intersection of the two sets is:\u001b[39m\u001b[38;5;124m\"\u001b[39m, intersection)\n\u001b[1;32m     17\u001b[0m \u001b[38;5;28;01mif\u001b[39;00m \u001b[38;5;18m__name__\u001b[39m \u001b[38;5;241m==\u001b[39m \u001b[38;5;124m\"\u001b[39m\u001b[38;5;124m__main__\u001b[39m\u001b[38;5;124m\"\u001b[39m:\n\u001b[0;32m---> 18\u001b[0m     \u001b[43mmain\u001b[49m\u001b[43m(\u001b[49m\u001b[43m)\u001b[49m\n",
            "Cell \u001b[0;32mIn[14], line 8\u001b[0m, in \u001b[0;36mmain\u001b[0;34m()\u001b[0m\n\u001b[1;32m      6\u001b[0m \u001b[38;5;28;01mdef\u001b[39;00m \u001b[38;5;21mmain\u001b[39m():\n\u001b[1;32m      7\u001b[0m     \u001b[38;5;66;03m# Get two sets of integers from the user\u001b[39;00m\n\u001b[0;32m----> 8\u001b[0m     set1 \u001b[38;5;241m=\u001b[39m \u001b[43mget_set_input\u001b[49m\u001b[43m(\u001b[49m\u001b[38;5;124;43m\"\u001b[39;49m\u001b[38;5;124;43mEnter the first set of integers (separated by commas): \u001b[39;49m\u001b[38;5;124;43m\"\u001b[39;49m\u001b[43m)\u001b[49m\n\u001b[1;32m      9\u001b[0m     set2 \u001b[38;5;241m=\u001b[39m get_set_input(\u001b[38;5;124m\"\u001b[39m\u001b[38;5;124mEnter the second set of integers (separated by commas): \u001b[39m\u001b[38;5;124m\"\u001b[39m)\n\u001b[1;32m     11\u001b[0m     \u001b[38;5;66;03m# Calculate the intersection\u001b[39;00m\n",
            "Cell \u001b[0;32mIn[14], line 4\u001b[0m, in \u001b[0;36mget_set_input\u001b[0;34m(prompt)\u001b[0m\n\u001b[1;32m      1\u001b[0m \u001b[38;5;28;01mdef\u001b[39;00m \u001b[38;5;21mget_set_input\u001b[39m(prompt):\n\u001b[1;32m      2\u001b[0m     \u001b[38;5;66;03m# Prompt user for input and convert it to a set of integers\u001b[39;00m\n\u001b[1;32m      3\u001b[0m     user_input \u001b[38;5;241m=\u001b[39m \u001b[38;5;28minput\u001b[39m(prompt)\n\u001b[0;32m----> 4\u001b[0m     \u001b[38;5;28;01mreturn\u001b[39;00m \u001b[38;5;28mset\u001b[39m(\u001b[38;5;28mmap\u001b[39m(\u001b[38;5;28mint\u001b[39m, \u001b[43muser_input\u001b[49m\u001b[38;5;241;43m.\u001b[39;49m\u001b[43msplit\u001b[49m(\u001b[38;5;124m'\u001b[39m\u001b[38;5;124m,\u001b[39m\u001b[38;5;124m'\u001b[39m)))\n",
            "\u001b[0;31mAttributeError\u001b[0m: 'PyodideFuture' object has no attribute 'split'"
          ],
          "output_type": "error"
        },
        {
          "output_type": "stream",
          "name": "stdin",
          "text": "Enter the first set of integers (separated by commas):  3,4\n"
        }
      ],
      "execution_count": 14
    },
    {
      "cell_type": "raw",
      "source": "Explanation:\n1. get_set_input Function: This function prompts the user for input, splits the input string by commas, converts the parts to integers, and then creates a set from those integers.\n2. main Function: This function retrieves two sets from the user, computes their intersection using the & operator, and prints the result.\n3. Input Handling: The program assumes the user will input valid integers separated by commas. You can enhance it with error handling if needed.",
      "metadata": {}
    },
    {
      "cell_type": "raw",
      "source": "Answer23. Write a code to concatenate two tuples. The function should take two tuples as input and return a new tuple containing elements from both input tuples.",
      "metadata": {}
    },
    {
      "cell_type": "code",
      "source": "def concatenate_tuples(tuple1, tuple2):\n    # Concatenate the two tuples\n    return tuple1 + tuple2\n\n# Example usage\ntuple1 = (1, 2, 3)\ntuple2 = (4, 5, 6)\nresult = concatenate_tuples(tuple1, tuple2)\nprint(result)",
      "metadata": {
        "trusted": true
      },
      "outputs": [
        {
          "name": "stdout",
          "text": "(1, 2, 3, 4, 5, 6)\n",
          "output_type": "stream"
        }
      ],
      "execution_count": 15
    },
    {
      "cell_type": "raw",
      "source": "Explanation:\n* The function concatenate_tuples takes two tuples as parameters.\n* It concatenates the tuples using the + operator, which combines them into a new tuple.\n* The result is then returned.\n\nThis is a straightforward and efficient way to concatenate tuples in Python!",
      "metadata": {}
    },
    {
      "cell_type": "raw",
      "source": "Answer24. Develop a code that prompts the user to input two sets of strings. Then, print the elements that are present in the first set but not in the second set.",
      "metadata": {}
    },
    {
      "cell_type": "code",
      "source": "def get_set_input(prompt):\n    # Prompt user for input and convert it to a set of strings\n    user_input = input(prompt)\n    return set(user_input.split(','))\n\ndef main():\n    # Get two sets of strings from the user\n    set1 = get_set_input(\"Enter the first set of strings (separated by commas): \")\n    set2 = get_set_input(\"Enter the second set of strings (separated by commas): \")\n    \n    # Calculate the difference\n    difference = set1 - set2\n    \n    # Print the result\n    print(\"Elements in the first set but not in the second set:\", difference)\n\nif __name__ == \"__main__\":\n    main()",
      "metadata": {
        "trusted": true
      },
      "outputs": [
        {
          "ename": "<class 'AttributeError'>",
          "evalue": "'PyodideFuture' object has no attribute 'split'",
          "traceback": [
            "\u001b[0;31m---------------------------------------------------------------------------\u001b[0m",
            "\u001b[0;31mAttributeError\u001b[0m                            Traceback (most recent call last)",
            "Cell \u001b[0;32mIn[16], line 18\u001b[0m\n\u001b[1;32m     15\u001b[0m     \u001b[38;5;28mprint\u001b[39m(\u001b[38;5;124m\"\u001b[39m\u001b[38;5;124mElements in the first set but not in the second set:\u001b[39m\u001b[38;5;124m\"\u001b[39m, difference)\n\u001b[1;32m     17\u001b[0m \u001b[38;5;28;01mif\u001b[39;00m \u001b[38;5;18m__name__\u001b[39m \u001b[38;5;241m==\u001b[39m \u001b[38;5;124m\"\u001b[39m\u001b[38;5;124m__main__\u001b[39m\u001b[38;5;124m\"\u001b[39m:\n\u001b[0;32m---> 18\u001b[0m     \u001b[43mmain\u001b[49m\u001b[43m(\u001b[49m\u001b[43m)\u001b[49m\n",
            "Cell \u001b[0;32mIn[16], line 8\u001b[0m, in \u001b[0;36mmain\u001b[0;34m()\u001b[0m\n\u001b[1;32m      6\u001b[0m \u001b[38;5;28;01mdef\u001b[39;00m \u001b[38;5;21mmain\u001b[39m():\n\u001b[1;32m      7\u001b[0m     \u001b[38;5;66;03m# Get two sets of strings from the user\u001b[39;00m\n\u001b[0;32m----> 8\u001b[0m     set1 \u001b[38;5;241m=\u001b[39m \u001b[43mget_set_input\u001b[49m\u001b[43m(\u001b[49m\u001b[38;5;124;43m\"\u001b[39;49m\u001b[38;5;124;43mEnter the first set of strings (separated by commas): \u001b[39;49m\u001b[38;5;124;43m\"\u001b[39;49m\u001b[43m)\u001b[49m\n\u001b[1;32m      9\u001b[0m     set2 \u001b[38;5;241m=\u001b[39m get_set_input(\u001b[38;5;124m\"\u001b[39m\u001b[38;5;124mEnter the second set of strings (separated by commas): \u001b[39m\u001b[38;5;124m\"\u001b[39m)\n\u001b[1;32m     11\u001b[0m     \u001b[38;5;66;03m# Calculate the difference\u001b[39;00m\n",
            "Cell \u001b[0;32mIn[16], line 4\u001b[0m, in \u001b[0;36mget_set_input\u001b[0;34m(prompt)\u001b[0m\n\u001b[1;32m      1\u001b[0m \u001b[38;5;28;01mdef\u001b[39;00m \u001b[38;5;21mget_set_input\u001b[39m(prompt):\n\u001b[1;32m      2\u001b[0m     \u001b[38;5;66;03m# Prompt user for input and convert it to a set of strings\u001b[39;00m\n\u001b[1;32m      3\u001b[0m     user_input \u001b[38;5;241m=\u001b[39m \u001b[38;5;28minput\u001b[39m(prompt)\n\u001b[0;32m----> 4\u001b[0m     \u001b[38;5;28;01mreturn\u001b[39;00m \u001b[38;5;28mset\u001b[39m(\u001b[43muser_input\u001b[49m\u001b[38;5;241;43m.\u001b[39;49m\u001b[43msplit\u001b[49m(\u001b[38;5;124m'\u001b[39m\u001b[38;5;124m,\u001b[39m\u001b[38;5;124m'\u001b[39m))\n",
            "\u001b[0;31mAttributeError\u001b[0m: 'PyodideFuture' object has no attribute 'split'"
          ],
          "output_type": "error"
        },
        {
          "output_type": "stream",
          "name": "stdin",
          "text": "Enter the first set of strings (separated by commas):  apple,banana,cherry\n"
        }
      ],
      "execution_count": 16
    },
    {
      "cell_type": "raw",
      "source": "Explanation:\n1. get_set_input Function: This function prompts the user for input, splits the input string by commas, and creates a set from those strings.\n2. main Function: This function retrieves two sets from the user, computes the difference using the - operator, and prints the result.\n3. Input Handling: The program assumes the user will input valid strings separated by commas.",
      "metadata": {}
    },
    {
      "cell_type": "raw",
      "source": "Answer25. Create a code that takes a tuple and two integers as input. The function should return a new tuple containing elements from the original tuple within the specified range of indices",
      "metadata": {}
    },
    {
      "cell_type": "code",
      "source": "def slice_tuple(original_tuple, start_index, end_index):\n    \"\"\"\n    Returns a new tuple containing elements from the original tuple\n    within the specified range of indices (inclusive of start_index,\n    exclusive of end_index).\n\n    Parameters:\n    - original_tuple: The tuple to slice.\n    - start_index: The starting index (inclusive).\n    - end_index: The ending index (exclusive).\n\n    Returns:\n    - A new tuple containing the sliced elements.\n    \"\"\"\n    # Check if the indices are within the range of the tuple\n    if start_index < 0 or end_index > len(original_tuple):\n        raise IndexError(\"Index out of range.\")\n    \n    return original_tuple[start_index:end_index]\n\n# Example usage\nmy_tuple = (1, 2, 3, 4, 5)\nresult = slice_tuple(my_tuple, 1, 4)\nprint(result) ",
      "metadata": {
        "trusted": true
      },
      "outputs": [
        {
          "name": "stdout",
          "text": "(2, 3, 4)\n",
          "output_type": "stream"
        }
      ],
      "execution_count": 1
    },
    {
      "cell_type": "raw",
      "source": "Explanation:\n* The function slice_tuple accepts three parameters: the tuple to slice, the starting index, and the ending index.\n* It checks if the indices are valid for the given tuple. If they are not, it raises an IndexError.\n* It uses Python's slicing feature to return the specified range as a new tuple. The slice includes elements from start_index up to (but not including) end_index.",
      "metadata": {}
    },
    {
      "cell_type": "raw",
      "source": "Answer26. Write a code that prompts the user to input two sets of characters. Then, print the union of these two sets.",
      "metadata": {}
    },
    {
      "cell_type": "code",
      "source": "def main():\n    # Prompt the user to input two sets of characters\n    set1_input = input(\"Enter the first set of characters (e.g., abc): \")\n    set2_input = input(\"Enter the second set of characters (e.g., xyz): \")\n\n    # Convert the input strings to sets\n    set1 = set(set1_input)\n    set2 = set(set2_input)\n\n    # Calculate the union of the two sets\n    union_set = set1.union(set2)\n\n    # Print the result\n    print(\"The union of the two sets is:\", ''.join(union_set))\n\nif __name__ == \"__main__\":\n    main()",
      "metadata": {
        "trusted": true
      },
      "outputs": [
        {
          "ename": "<class 'RuntimeError'>",
          "evalue": "await wasn't used with future",
          "traceback": [
            "\u001b[0;31m---------------------------------------------------------------------------\u001b[0m",
            "\u001b[0;31mRuntimeError\u001b[0m                              Traceback (most recent call last)",
            "Cell \u001b[0;32mIn[3], line 17\u001b[0m\n\u001b[1;32m     14\u001b[0m     \u001b[38;5;28mprint\u001b[39m(\u001b[38;5;124m\"\u001b[39m\u001b[38;5;124mThe union of the two sets is:\u001b[39m\u001b[38;5;124m\"\u001b[39m, \u001b[38;5;124m'\u001b[39m\u001b[38;5;124m'\u001b[39m\u001b[38;5;241m.\u001b[39mjoin(union_set))\n\u001b[1;32m     16\u001b[0m \u001b[38;5;28;01mif\u001b[39;00m \u001b[38;5;18m__name__\u001b[39m \u001b[38;5;241m==\u001b[39m \u001b[38;5;124m\"\u001b[39m\u001b[38;5;124m__main__\u001b[39m\u001b[38;5;124m\"\u001b[39m:\n\u001b[0;32m---> 17\u001b[0m     \u001b[43mmain\u001b[49m\u001b[43m(\u001b[49m\u001b[43m)\u001b[49m\n",
            "Cell \u001b[0;32mIn[3], line 7\u001b[0m, in \u001b[0;36mmain\u001b[0;34m()\u001b[0m\n\u001b[1;32m      4\u001b[0m set2_input \u001b[38;5;241m=\u001b[39m \u001b[38;5;28minput\u001b[39m(\u001b[38;5;124m\"\u001b[39m\u001b[38;5;124mEnter the second set of characters (e.g., xyz): \u001b[39m\u001b[38;5;124m\"\u001b[39m)\n\u001b[1;32m      6\u001b[0m \u001b[38;5;66;03m# Convert the input strings to sets\u001b[39;00m\n\u001b[0;32m----> 7\u001b[0m set1 \u001b[38;5;241m=\u001b[39m \u001b[38;5;28;43mset\u001b[39;49m\u001b[43m(\u001b[49m\u001b[43mset1_input\u001b[49m\u001b[43m)\u001b[49m\n\u001b[1;32m      8\u001b[0m set2 \u001b[38;5;241m=\u001b[39m \u001b[38;5;28mset\u001b[39m(set2_input)\n\u001b[1;32m     10\u001b[0m \u001b[38;5;66;03m# Calculate the union of the two sets\u001b[39;00m\n",
            "\u001b[0;31mRuntimeError\u001b[0m: await wasn't used with future"
          ],
          "output_type": "error"
        },
        {
          "output_type": "stream",
          "name": "stdin",
          "text": "Enter the second set of characters (e.g., xyz):  xyz\nEnter the first set of characters (e.g., abc):  abc\n"
        }
      ],
      "execution_count": 3
    },
    {
      "cell_type": "raw",
      "source": "How It Works:\n1. The program prompts the user to enter two sets of characters as strings.\n2. It converts the input strings into sets, which automatically handles duplicates.\n3. It calculates the union of the two sets using the union method.\n4. Finally, it prints the union of the sets.",
      "metadata": {}
    },
    {
      "cell_type": "raw",
      "source": "Answer27. Develop a code that takes a tuple of integers as input. The function should return the maximum and minimum values from the tuple using tuple unpacking.",
      "metadata": {}
    },
    {
      "cell_type": "code",
      "source": "def get_min_max(values):\n    \"\"\"\n    Returns the maximum and minimum values from a tuple of integers.\n\n    Parameters:\n    - values: A tuple of integers.\n\n    Returns:\n    - A tuple containing the minimum and maximum values.\n    \"\"\"\n    if not values:\n        raise ValueError(\"The input tuple cannot be empty.\")\n\n    # Calculate the maximum and minimum values\n    max_value = max(values)\n    min_value = min(values)\n\n    # Use tuple unpacking to return the results\n    return min_value, max_value\n\n# Example usage\ninput_tuple = (3, 1, 4, 1, 5, 9, 2)\nmin_val, max_val = get_min_max(input_tuple)\nprint(\"Minimum value:\", min_val)\nprint(\"Maximum value:\", max_val)",
      "metadata": {
        "trusted": true
      },
      "outputs": [
        {
          "name": "stdout",
          "text": "Minimum value: 1\nMaximum value: 9\n",
          "output_type": "stream"
        }
      ],
      "execution_count": 4
    },
    {
      "cell_type": "raw",
      "source": "Explanation:\n1. The function get_min_max takes a tuple of integers as input.\n2. It checks if the tuple is empty and raises a ValueError if it is.\n3. It uses the built-in max() and min() functions to find the maximum and minimum values from the tuple.\n4. It returns the minimum and maximum values as a new tuple, using tuple unpacking.",
      "metadata": {}
    },
    {
      "cell_type": "raw",
      "source": "Answer28. Create a code that defines two sets of integers. Then, print the union, intersection, and difference of these two sets.",
      "metadata": {}
    },
    {
      "cell_type": "code",
      "source": "def main():\n    # Define two sets of integers\n    set_a = {1, 2, 3, 4, 5}\n    set_b = {4, 5, 6, 7, 8}\n\n    # Calculate union, intersection, and difference\n    union_set = set_a.union(set_b)\n    intersection_set = set_a.intersection(set_b)\n    difference_set_a_b = set_a.difference(set_b)\n    difference_set_b_a = set_b.difference(set_a)\n\n    # Print the results\n    print(\"Set A:\", set_a)\n    print(\"Set B:\", set_b)\n    print(\"Union of Set A and Set B:\", union_set)\n    print(\"Intersection of Set A and Set B:\", intersection_set)\n    print(\"Difference of Set A and Set B (A - B):\", difference_set_a_b)\n    print(\"Difference of Set B and Set A (B - A):\", difference_set_b_a)\n\nif __name__ == \"__main__\":\n    main()",
      "metadata": {
        "trusted": true
      },
      "outputs": [
        {
          "name": "stdout",
          "text": "Set A: {1, 2, 3, 4, 5}\nSet B: {4, 5, 6, 7, 8}\nUnion of Set A and Set B: {1, 2, 3, 4, 5, 6, 7, 8}\nIntersection of Set A and Set B: {4, 5}\nDifference of Set A and Set B (A - B): {1, 2, 3}\nDifference of Set B and Set A (B - A): {8, 6, 7}\n",
          "output_type": "stream"
        }
      ],
      "execution_count": 5
    },
    {
      "cell_type": "raw",
      "source": "Explanation:\n1. Set Definitions: Two sets, set_a and set_b, are defined with some integer values.\n2. Set Operations:\n* Union: Combines all unique elements from both sets.\n* Intersection: Finds elements common to both sets.\n* Difference: Finds elements that are in one set but not in the other.\n3. Print Results: The results of each operation are printed.",
      "metadata": {}
    },
    {
      "cell_type": "raw",
      "source": "Answer29. Write a code that takes a tuple and an element as input. The function should return the count of occurrences of the given element in the tuple.",
      "metadata": {}
    },
    {
      "cell_type": "code",
      "source": "def count_occurrences(input_tuple, element):\n    \"\"\"\n    Returns the count of occurrences of a given element in the tuple.\n\n    Parameters:\n    - input_tuple: A tuple in which to count occurrences.\n    - element: The element to count in the tuple.\n\n    Returns:\n    - The count of occurrences of the element in the tuple.\n    \"\"\"\n    return input_tuple.count(element)\n\n# Example usage\nmy_tuple = (1, 2, 3, 2, 4, 2, 5)\nelement_to_count = 2\ncount = count_occurrences(my_tuple, element_to_count)\nprint(f\"The element {element_to_count} occurs {count} time(s) in the tuple.\")",
      "metadata": {
        "trusted": true
      },
      "outputs": [
        {
          "name": "stdout",
          "text": "The element 2 occurs 3 time(s) in the tuple.\n",
          "output_type": "stream"
        }
      ],
      "execution_count": 6
    },
    {
      "cell_type": "raw",
      "source": "Explanation:\n1. Function Definition: The count_occurrences function takes a tuple and an element as parameters.\n2. Count Method: It uses the count() method of the tuple to find how many times the specified element appears.\n3. Example Usage: The example creates a tuple, specifies an element to count, and prints the result.",
      "metadata": {}
    },
    {
      "cell_type": "raw",
      "source": "Answer30. Develop a code that prompts the user to input two sets of strings. Then, print the symmetric difference of these two sets.",
      "metadata": {}
    },
    {
      "cell_type": "code",
      "source": "def main():\n    # Prompt the user to input two sets of strings\n    set1_input = input(\"Enter the first set of strings (comma-separated): \")\n    set2_input = input(\"Enter the second set of strings (comma-separated): \")\n\n    # Convert the input strings into sets\n    set1 = set(item.strip() for item in set1_input.split(','))\n    set2 = set(item.strip() for item in set2_input.split(','))\n\n    # Calculate the symmetric difference\n    symmetric_difference = set1.symmetric_difference(set2)\n\n    # Print the result\n    print(\"The symmetric difference of the two sets is:\", symmetric_difference)\n\nif __name__ == \"__main__\":\n    main()",
      "metadata": {
        "trusted": true
      },
      "outputs": [
        {
          "ename": "<class 'AttributeError'>",
          "evalue": "'PyodideFuture' object has no attribute 'split'",
          "traceback": [
            "\u001b[0;31m---------------------------------------------------------------------------\u001b[0m",
            "\u001b[0;31mAttributeError\u001b[0m                            Traceback (most recent call last)",
            "Cell \u001b[0;32mIn[8], line 17\u001b[0m\n\u001b[1;32m     14\u001b[0m     \u001b[38;5;28mprint\u001b[39m(\u001b[38;5;124m\"\u001b[39m\u001b[38;5;124mThe symmetric difference of the two sets is:\u001b[39m\u001b[38;5;124m\"\u001b[39m, symmetric_difference)\n\u001b[1;32m     16\u001b[0m \u001b[38;5;28;01mif\u001b[39;00m \u001b[38;5;18m__name__\u001b[39m \u001b[38;5;241m==\u001b[39m \u001b[38;5;124m\"\u001b[39m\u001b[38;5;124m__main__\u001b[39m\u001b[38;5;124m\"\u001b[39m:\n\u001b[0;32m---> 17\u001b[0m     \u001b[43mmain\u001b[49m\u001b[43m(\u001b[49m\u001b[43m)\u001b[49m\n",
            "Cell \u001b[0;32mIn[8], line 7\u001b[0m, in \u001b[0;36mmain\u001b[0;34m()\u001b[0m\n\u001b[1;32m      4\u001b[0m set2_input \u001b[38;5;241m=\u001b[39m \u001b[38;5;28minput\u001b[39m(\u001b[38;5;124m\"\u001b[39m\u001b[38;5;124mEnter the second set of strings (comma-separated): \u001b[39m\u001b[38;5;124m\"\u001b[39m)\n\u001b[1;32m      6\u001b[0m \u001b[38;5;66;03m# Convert the input strings into sets\u001b[39;00m\n\u001b[0;32m----> 7\u001b[0m set1 \u001b[38;5;241m=\u001b[39m \u001b[38;5;28mset\u001b[39m(item\u001b[38;5;241m.\u001b[39mstrip() \u001b[38;5;28;01mfor\u001b[39;00m item \u001b[38;5;129;01min\u001b[39;00m \u001b[43mset1_input\u001b[49m\u001b[38;5;241;43m.\u001b[39;49m\u001b[43msplit\u001b[49m(\u001b[38;5;124m'\u001b[39m\u001b[38;5;124m,\u001b[39m\u001b[38;5;124m'\u001b[39m))\n\u001b[1;32m      8\u001b[0m set2 \u001b[38;5;241m=\u001b[39m \u001b[38;5;28mset\u001b[39m(item\u001b[38;5;241m.\u001b[39mstrip() \u001b[38;5;28;01mfor\u001b[39;00m item \u001b[38;5;129;01min\u001b[39;00m set2_input\u001b[38;5;241m.\u001b[39msplit(\u001b[38;5;124m'\u001b[39m\u001b[38;5;124m,\u001b[39m\u001b[38;5;124m'\u001b[39m))\n\u001b[1;32m     10\u001b[0m \u001b[38;5;66;03m# Calculate the symmetric difference\u001b[39;00m\n",
            "\u001b[0;31mAttributeError\u001b[0m: 'PyodideFuture' object has no attribute 'split'"
          ],
          "output_type": "error"
        },
        {
          "output_type": "stream",
          "name": "stdin",
          "text": "Enter the second set of strings (comma-separated):  banana, date, fig\nEnter the first set of strings (comma-separated):  apple, banana, cherry\n"
        }
      ],
      "execution_count": 8
    },
    {
      "cell_type": "raw",
      "source": "Explanation:\n1. User Input: The program prompts the user to enter two sets of strings, separated by commas.\n2. Set Conversion: It splits the input strings by commas, strips any whitespace, and converts them into sets.\n3. Symmetric Difference: It calculates the symmetric difference using the symmetric_difference() method, which returns elements that are in either set but not in both.\n4. Print Result: Finally, it prints the symmetric difference.",
      "metadata": {}
    },
    {
      "cell_type": "raw",
      "source": "Answer31. Write a code that takes a list of words as input and returns a dictionary where the keys are unique words and the values are the frequencies of those words in the input list.",
      "metadata": {}
    },
    {
      "cell_type": "code",
      "source": "def word_frequency(words):\n    \"\"\"\n    Returns a dictionary with unique words as keys and their frequencies as values.\n\n    Parameters:\n    - words: A list of words.\n\n    Returns:\n    - A dictionary with word frequencies.\n    \"\"\"\n    frequency_dict = {}\n    \n    for word in words:\n        # Normalize the word to lowercase to ensure case-insensitivity\n        word = word.lower()\n        if word in frequency_dict:\n            frequency_dict[word] += 1\n        else:\n            frequency_dict[word] = 1\n            \n    return frequency_dict\n\n# Example usage\ninput_list = input(\"Enter a list of words (separated by spaces): \").split()\nresult = word_frequency(input_list)\nprint(\"Word frequencies:\", result)",
      "metadata": {
        "trusted": true
      },
      "outputs": [
        {
          "ename": "<class 'AttributeError'>",
          "evalue": "'PyodideFuture' object has no attribute 'split'",
          "traceback": [
            "\u001b[0;31m---------------------------------------------------------------------------\u001b[0m",
            "\u001b[0;31mAttributeError\u001b[0m                            Traceback (most recent call last)",
            "Cell \u001b[0;32mIn[9], line 24\u001b[0m\n\u001b[1;32m     21\u001b[0m     \u001b[38;5;28;01mreturn\u001b[39;00m frequency_dict\n\u001b[1;32m     23\u001b[0m \u001b[38;5;66;03m# Example usage\u001b[39;00m\n\u001b[0;32m---> 24\u001b[0m input_list \u001b[38;5;241m=\u001b[39m \u001b[38;5;28;43minput\u001b[39;49m\u001b[43m(\u001b[49m\u001b[38;5;124;43m\"\u001b[39;49m\u001b[38;5;124;43mEnter a list of words (separated by spaces): \u001b[39;49m\u001b[38;5;124;43m\"\u001b[39;49m\u001b[43m)\u001b[49m\u001b[38;5;241;43m.\u001b[39;49m\u001b[43msplit\u001b[49m()\n\u001b[1;32m     25\u001b[0m result \u001b[38;5;241m=\u001b[39m word_frequency(input_list)\n\u001b[1;32m     26\u001b[0m \u001b[38;5;28mprint\u001b[39m(\u001b[38;5;124m\"\u001b[39m\u001b[38;5;124mWord frequencies:\u001b[39m\u001b[38;5;124m\"\u001b[39m, result)\n",
            "\u001b[0;31mAttributeError\u001b[0m: 'PyodideFuture' object has no attribute 'split'"
          ],
          "output_type": "error"
        },
        {
          "output_type": "stream",
          "name": "stdin",
          "text": "Enter a list of words (separated by spaces):  apple banana orange apple banana\n"
        }
      ],
      "execution_count": 9
    },
    {
      "cell_type": "raw",
      "source": "Explanation:\n1. Function Definition: The word_frequency function takes a list of words as input.\n2. Dictionary Creation: It initializes an empty dictionary to hold the word frequencies.\n3. Counting Frequencies:\n* It iterates through each word in the input list.\n* Normalizes the word to lowercase to ensure that the counting is case-insensitive.\n* If the word is already in the dictionary, it increments the count; if not, it adds the word with a count of 1.\n4. Return the Result: Finally, it returns the dictionary containing word frequencies.",
      "metadata": {}
    },
    {
      "cell_type": "raw",
      "source": "Answer32. Write a code that takes two dictionaries as input and merges them into a single dictionary. If there are common keys, the values should be added together.",
      "metadata": {}
    },
    {
      "cell_type": "code",
      "source": "def merge_dictionaries(dict1, dict2):\n    \"\"\"\n    Merges two dictionaries, summing values for common keys.\n\n    Parameters:\n    - dict1: The first dictionary.\n    - dict2: The second dictionary.\n\n    Returns:\n    - A merged dictionary with summed values for common keys.\n    \"\"\"\n    merged_dict = dict1.copy()  # Start with a copy of the first dictionary\n\n    for key, value in dict2.items():\n        if key in merged_dict:\n            merged_dict[key] += value  # Sum the values for common keys\n        else:\n            merged_dict[key] = value  # Add new key-value pair\n\n    return merged_dict\n\n# Example usage\ndict1 = {'a': 1, 'b': 2, 'c': 3}\ndict2 = {'b': 3, 'c': 1, 'd': 4}\n\nresult = merge_dictionaries(dict1, dict2)\nprint(\"Merged dictionary:\", result)",
      "metadata": {
        "trusted": true
      },
      "outputs": [
        {
          "name": "stdout",
          "text": "Merged dictionary: {'a': 1, 'b': 5, 'c': 4, 'd': 4}\n",
          "output_type": "stream"
        }
      ],
      "execution_count": 10
    },
    {
      "cell_type": "raw",
      "source": "Explanation:\n1. Function Definition: The merge_dictionaries function takes two dictionaries as input.\n2.  Copy First Dictionary: It starts by creating a copy of the first dictionary to avoid modifying it directly.\n3. Iterate Over Second Dictionary:\n* For each key-value pair in the second dictionary:\n* If the key already exists in the merged dictionary, it adds the value to the existing value.\n* If the key does not exist, it adds the key-value pair to the merged dictionary.\n4. Return the Result: Finally, it returns the merged dictionary.",
      "metadata": {}
    },
    {
      "cell_type": "raw",
      "source": "Answer33. Write a code to access a value in a nested dictionary. The function should take the dictionary and a list of keys as input, and return the corresponding value. If any of the keys do not exist in the dictionary, the function should return None.",
      "metadata": {}
    },
    {
      "cell_type": "code",
      "source": "def access_nested_value(nested_dict, keys):\n    \"\"\"\n    Accesses a value in a nested dictionary using a list of keys.\n\n    Parameters:\n    - nested_dict: The nested dictionary to access.\n    - keys: A list of keys to follow in the nested dictionary.\n\n    Returns:\n    - The corresponding value if all keys exist, otherwise None.\n    \"\"\"\n    current_value = nested_dict\n    \n    for key in keys:\n        if isinstance(current_value, dict) and key in current_value:\n            current_value = current_value[key]  # Move deeper into the dictionary\n        else:\n            return None  # Return None if key is not found\n\n    return current_value\n\n# Example usage\nnested_dict = {\n    'a': {\n        'b': {\n            'c': 10\n        },\n        'd': 20\n    },\n    'e': 30\n}\n\n# List of keys to access\nkeys_to_access = ['a', 'b', 'c']\n\nresult = access_nested_value(nested_dict, keys_to_access)\nprint(\"Accessed value:\", result) \n\n# Example of a missing key\nmissing_keys = ['a', 'x', 'c']\nresult_missing = access_nested_value(nested_dict, missing_keys)\nprint(\"Accessed value for missing keys:\", result_missing) ",
      "metadata": {
        "trusted": true
      },
      "outputs": [
        {
          "name": "stdout",
          "text": "Accessed value: 10\nAccessed value for missing keys: None\n",
          "output_type": "stream"
        }
      ],
      "execution_count": 11
    },
    {
      "cell_type": "raw",
      "source": "Explanation:\n1 Function Definition: The access_nested_value function takes a nested dictionary and a list of keys.\n2. Traverse the Dictionary:\n* It initializes current_value to the nested dictionary.\n* It iterates through the list of keys, checking if the current value is a dictionary and if the key exists.\n* If both conditions are met, it updates current_value to the next level in the dictionary.\n3. If any key does not exist, it returns None.\n4. Return the Result: If all keys are found, it returns the corresponding value.",
      "metadata": {}
    },
    {
      "cell_type": "raw",
      "source": "Answer34. Write a code that takes a dictionary as input and returns a sorted version of it based on the values. You can choose whether to sort in ascending or descending order.",
      "metadata": {}
    },
    {
      "cell_type": "code",
      "source": "def sort_dictionary_by_value(input_dict, descending=False):\n    \"\"\"\n    Returns a sorted version of the dictionary based on its values.\n\n    Parameters:\n    - input_dict: The dictionary to sort.\n    - descending: A boolean indicating whether to sort in descending order.\n\n    Returns:\n    - A sorted dictionary.\n    \"\"\"\n    # Sort the dictionary by value\n    sorted_dict = dict(sorted(input_dict.items(), key=lambda item: item[1], reverse=descending))\n    \n    return sorted_dict\n\n# Example usage\nmy_dict = {'a': 3, 'b': 1, 'c': 2}\n\n# Sort in ascending order\nsorted_asc = sort_dictionary_by_value(my_dict)\nprint(\"Sorted dictionary (ascending):\", sorted_asc)\n\n# Sort in descending order\nsorted_desc = sort_dictionary_by_value(my_dict, descending=True)\nprint(\"Sorted dictionary (descending):\", sorted_desc)",
      "metadata": {
        "trusted": true
      },
      "outputs": [
        {
          "name": "stdout",
          "text": "Sorted dictionary (ascending): {'b': 1, 'c': 2, 'a': 3}\nSorted dictionary (descending): {'a': 3, 'c': 2, 'b': 1}\n",
          "output_type": "stream"
        }
      ],
      "execution_count": 12
    },
    {
      "cell_type": "raw",
      "source": "Explanation:\n1. Function Definition: The sort_dictionary_by_value function takes a dictionary and a boolean parameter descending to decide the sort order.\n2. Sorting:\n* It uses the sorted() function, specifying key=lambda item: item[1] to sort by the dictionary values.\n* The reverse parameter is set based on the descending argument.\n3. Return Sorted Dictionary: The sorted items are converted back to a dictionary.",
      "metadata": {}
    },
    {
      "cell_type": "raw",
      "source": "Answer35. Write a code that inverts a dictionary, swapping keys and values. Ensure that the inverted dictionary correctly handles cases where multiple keys have the same value by storing the keys as a list in the inverted dictionary.",
      "metadata": {}
    },
    {
      "cell_type": "code",
      "source": "def invert_dictionary(input_dict):\n    \"\"\"\n    Inverts a dictionary, swapping keys and values.\n\n    Parameters:\n    - input_dict: The dictionary to invert.\n\n    Returns:\n    - An inverted dictionary where keys are values and values are lists of keys.\n    \"\"\"\n    inverted_dict = {}\n\n    for key, value in input_dict.items():\n        # If the value is already a key in inverted_dict, append the key to the list\n        if value in inverted_dict:\n            inverted_dict[value].append(key)\n        else:\n            inverted_dict[value] = [key]  # Create a new list with the current key\n\n    return inverted_dict\n\n# Example usage\noriginal_dict = {'a': 1, 'b': 2, 'c': 1, 'd': 3}\ninverted_dict = invert_dictionary(original_dict)\nprint(\"Original dictionary:\", original_dict)\nprint(\"Inverted dictionary:\", inverted_dict)",
      "metadata": {
        "trusted": true
      },
      "outputs": [
        {
          "name": "stdout",
          "text": "Original dictionary: {'a': 1, 'b': 2, 'c': 1, 'd': 3}\nInverted dictionary: {1: ['a', 'c'], 2: ['b'], 3: ['d']}\n",
          "output_type": "stream"
        }
      ],
      "execution_count": 13
    },
    {
      "cell_type": "raw",
      "source": "Explanation:\n1. Function Definition: The invert_dictionary function takes a dictionary as input.\n2. Inversion Logic:\n* It initializes an empty dictionary inverted_dict.\n* For each key-value pair in the original dictionary:\n* If the value is already a key in inverted_dict, it appends the current key to the existing list.\n* If the value is not yet a key, it creates a new entry in inverted_dict with the value as the key and the current key as the first element in a new list.\n3. Return the Inverted Dictionary: Finally, it returns the inverted dictionary.",
      "metadata": {}
    }
  ]
}